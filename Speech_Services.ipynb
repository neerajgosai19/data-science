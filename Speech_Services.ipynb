{
  "nbformat": 4,
  "nbformat_minor": 0,
  "metadata": {
    "kernelspec": {
      "display_name": "Python",
      "language": "python",
      "name": "conda-env-python-py"
    },
    "language_info": {
      "codemirror_mode": {
        "name": "ipython",
        "version": 3
      },
      "file_extension": ".py",
      "mimetype": "text/x-python",
      "name": "python",
      "nbconvert_exporter": "python",
      "pygments_lexer": "ipython3",
      "version": "3.6.11"
    },
    "colab": {
      "name": "Speech Services.ipynb",
      "provenance": [],
      "include_colab_link": true
    }
  },
  "cells": [
    {
      "cell_type": "markdown",
      "metadata": {
        "id": "view-in-github",
        "colab_type": "text"
      },
      "source": [
        "<a href=\"https://colab.research.google.com/github/neerajgosai19/data-science/blob/master/Speech_Services.ipynb\" target=\"_parent\"><img src=\"https://colab.research.google.com/assets/colab-badge.svg\" alt=\"Open In Colab\"/></a>"
      ]
    },
    {
      "cell_type": "code",
      "metadata": {
        "id": "QsY0mSi6A6Zv",
        "outputId": "627e5818-3141-4fd0-8aeb-9da4ab53b391",
        "colab": {
          "base_uri": "https://localhost:8080/",
          "height": 540
        }
      },
      "source": [
        "!pip install ibm_watson bs4"
      ],
      "execution_count": null,
      "outputs": [
        {
          "output_type": "stream",
          "text": [
            "Collecting ibm_watson\n",
            "\u001b[?25l  Downloading https://files.pythonhosted.org/packages/a2/3c/c2cfb41db546fe98820e89017c892d73991cef61b9c48680191fe703a214/ibm-watson-4.7.1.tar.gz (385kB)\n",
            "\u001b[K     |████████████████████████████████| 389kB 5.2MB/s \n",
            "\u001b[?25hRequirement already satisfied: bs4 in /usr/local/lib/python3.6/dist-packages (0.0.1)\n",
            "Requirement already satisfied: requests<3.0,>=2.0 in /usr/local/lib/python3.6/dist-packages (from ibm_watson) (2.23.0)\n",
            "Requirement already satisfied: python_dateutil>=2.5.3 in /usr/local/lib/python3.6/dist-packages (from ibm_watson) (2.8.1)\n",
            "Collecting websocket-client==0.48.0\n",
            "\u001b[?25l  Downloading https://files.pythonhosted.org/packages/8a/a1/72ef9aa26cfe1a75cee09fc1957e4723add9de098c15719416a1ee89386b/websocket_client-0.48.0-py2.py3-none-any.whl (198kB)\n",
            "\u001b[K     |████████████████████████████████| 204kB 11.8MB/s \n",
            "\u001b[?25hCollecting ibm_cloud_sdk_core==1.7.3\n",
            "  Downloading https://files.pythonhosted.org/packages/b7/23/aa9ae242f6348a1ed28fca2e6d3e76e043c3db951f9b516e1992518fe2c3/ibm-cloud-sdk-core-1.7.3.tar.gz\n",
            "Requirement already satisfied: beautifulsoup4 in /usr/local/lib/python3.6/dist-packages (from bs4) (4.6.3)\n",
            "Requirement already satisfied: urllib3!=1.25.0,!=1.25.1,<1.26,>=1.21.1 in /usr/local/lib/python3.6/dist-packages (from requests<3.0,>=2.0->ibm_watson) (1.24.3)\n",
            "Requirement already satisfied: idna<3,>=2.5 in /usr/local/lib/python3.6/dist-packages (from requests<3.0,>=2.0->ibm_watson) (2.10)\n",
            "Requirement already satisfied: certifi>=2017.4.17 in /usr/local/lib/python3.6/dist-packages (from requests<3.0,>=2.0->ibm_watson) (2020.6.20)\n",
            "Requirement already satisfied: chardet<4,>=3.0.2 in /usr/local/lib/python3.6/dist-packages (from requests<3.0,>=2.0->ibm_watson) (3.0.4)\n",
            "Requirement already satisfied: six>=1.5 in /usr/local/lib/python3.6/dist-packages (from python_dateutil>=2.5.3->ibm_watson) (1.15.0)\n",
            "Collecting PyJWT>=1.7.1\n",
            "  Downloading https://files.pythonhosted.org/packages/87/8b/6a9f14b5f781697e51259d81657e6048fd31a113229cf346880bb7545565/PyJWT-1.7.1-py2.py3-none-any.whl\n",
            "Building wheels for collected packages: ibm-watson, ibm-cloud-sdk-core\n",
            "  Building wheel for ibm-watson (setup.py) ... \u001b[?25l\u001b[?25hdone\n",
            "  Created wheel for ibm-watson: filename=ibm_watson-4.7.1-cp36-none-any.whl size=379133 sha256=73cfd03e97cad1751f5bb8d22afec3be597d17d8c5e43bbdad27f43616bc296a\n",
            "  Stored in directory: /root/.cache/pip/wheels/6e/14/69/dbbd573a3bab3bf64984572284f13f174f430038308abdd73c\n",
            "  Building wheel for ibm-cloud-sdk-core (setup.py) ... \u001b[?25l\u001b[?25hdone\n",
            "  Created wheel for ibm-cloud-sdk-core: filename=ibm_cloud_sdk_core-1.7.3-cp36-none-any.whl size=45945 sha256=f368ebdc359b992d0d817cf2ffdde00d29d9e34650257c7c80a6e04ff813adc9\n",
            "  Stored in directory: /root/.cache/pip/wheels/34/6e/58/589e0f841c2fae9dad99630d78ddc7a60c5c7663a16a39cdbb\n",
            "Successfully built ibm-watson ibm-cloud-sdk-core\n",
            "Installing collected packages: websocket-client, PyJWT, ibm-cloud-sdk-core, ibm-watson\n",
            "Successfully installed PyJWT-1.7.1 ibm-cloud-sdk-core-1.7.3 ibm-watson-4.7.1 websocket-client-0.48.0\n"
          ],
          "name": "stdout"
        }
      ]
    },
    {
      "cell_type": "code",
      "metadata": {
        "id": "8aPssgxKA6Z3"
      },
      "source": [
        "import os\n",
        "from glob import glob\n",
        "from bs4 import BeautifulSoup\n",
        "import IPython\n",
        "from ibm_cloud_sdk_core.authenticators import IAMAuthenticator\n",
        "from ibm_watson import SpeechToTextV1\n",
        "from ibm_watson import AssistantV2\n",
        "from ibm_watson import TextToSpeechV1"
      ],
      "execution_count": null,
      "outputs": []
    },
    {
      "cell_type": "code",
      "metadata": {
        "id": "LDADib5XA6Z6"
      },
      "source": [
        "recognition_service = SpeechToTextV1(IAMAuthenticator('INogA2g1OymnqMaYUq0nKdc9F8Oqrp820DoNh-xl85u9'))\n",
        "recognition_service.set_service_url('https://api.eu-gb.speech-to-text.watson.cloud.ibm.com/instances/59d79e72-ded7-484b-b1ce-e7e1909ebc91')\n",
        "SPEECH_EXTENSION = \"*.webm\"\n",
        "SPEECH_AUDIOTYPE = \"audio/webm\"\n",
        "\n",
        "def recognize_audio():\n",
        "    while len(glob(SPEECH_EXTENSION)) == 0:\n",
        "        pass\n",
        "    filename = glob(SPEECH_EXTENSION)[0]\n",
        "    audio_file = open(filename, \"rb\")\n",
        "    os.popen(\"rm \" + filename)\n",
        "    result = recognition_service.recognize(audio=audio_file, content_type=SPEECH_AUDIOTYPE).get_result()\n",
        "    return result[\"results\"][0][\"alternatives\"][0][\"transcript\"]"
      ],
      "execution_count": null,
      "outputs": []
    },
    {
      "cell_type": "code",
      "metadata": {
        "id": "BbRCIREKA6Z_"
      },
      "source": [
        "assistant = AssistantV2(version='2019-02-28', authenticator=IAMAuthenticator('Qs8c8t_PoYLHQw0jtmpvDOIf5OUejN2_ezJELPdPo7pQ'))\n",
        "assistant.set_service_url('https://api.kr-seo.assistant.watson.cloud.ibm.com/instances/7614d6b5-016f-459d-a510-f936c9ea2876')\n",
        "ASSISTANT_ID = \"b63d8d8b-039c-40e5-ba32-fc2c5fd511be\"\n",
        "session_id = assistant.create_session(assistant_id =ASSISTANT_ID).get_result()[\"session_id\"]\n",
        "\n",
        "def message_assistant(text):\n",
        "    response = assistant.message(assistant_id=ASSISTANT_ID,\n",
        "                                 session_id=session_id,\n",
        "                                 input={'message_type': 'text', 'text': text}).get_result()\n",
        "    return BeautifulSoup(response[\"output\"][\"generic\"][0][\"text\"]).get_text()"
      ],
      "execution_count": null,
      "outputs": []
    },
    {
      "cell_type": "code",
      "metadata": {
        "id": "j1gmfc0nA6aC"
      },
      "source": [
        "synthesis_service = TextToSpeechV1(IAMAuthenticator('LMPxVTQxi4xjeIEsXNFj7KDdQ94l2gIr34l2hRzGwPbl'))\n",
        "synthesis_service.set_service_url('https://api.eu-gb.text-to-speech.watson.cloud.ibm.com/instances/bf685348-158e-4f8d-a8cd-efce25ea8f58')\n",
        "\n",
        "def speak_text(text):\n",
        "    with open('temp.wav', 'wb') as audio_file:\n",
        "        response = synthesis_service.synthesize(text, accept='audio/wav', voice=\"en-US_AllisonV3Voice\").get_result()\n",
        "        audio_file.write(response.content)\n",
        "    return IPython.display.Audio(\"temp.wav\", autoplay=True)"
      ],
      "execution_count": null,
      "outputs": []
    },
    {
      "cell_type": "code",
      "metadata": {
        "id": "GsSn0rEVA6aG"
      },
      "source": [
        "speak_text(message_assistant(recognize_audio()))"
      ],
      "execution_count": null,
      "outputs": []
    },
    {
      "cell_type": "code",
      "metadata": {
        "id": "BQnYPhkvA6aJ"
      },
      "source": [
        ""
      ],
      "execution_count": null,
      "outputs": []
    },
    {
      "cell_type": "code",
      "metadata": {
        "id": "XscFi7O-A6aN"
      },
      "source": [
        ""
      ],
      "execution_count": null,
      "outputs": []
    },
    {
      "cell_type": "code",
      "metadata": {
        "id": "yAvmEb9NA6aR"
      },
      "source": [
        ""
      ],
      "execution_count": null,
      "outputs": []
    },
    {
      "cell_type": "code",
      "metadata": {
        "id": "l9653QrmA6aU"
      },
      "source": [
        ""
      ],
      "execution_count": null,
      "outputs": []
    },
    {
      "cell_type": "code",
      "metadata": {
        "id": "3uo8wailA6aX"
      },
      "source": [
        ""
      ],
      "execution_count": null,
      "outputs": []
    },
    {
      "cell_type": "code",
      "metadata": {
        "id": "X87B7Dl-A6aa"
      },
      "source": [
        ""
      ],
      "execution_count": null,
      "outputs": []
    }
  ]
}